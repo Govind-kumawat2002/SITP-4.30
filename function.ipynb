{
 "cells": [
  {
   "cell_type": "markdown",
   "metadata": {},
   "source": [
    "#### Python Function \n",
    "* A function is a block of code which is only run when it is called\n",
    "* Parameter ,data \n",
    "\n",
    "\n"
   ]
  },
  {
   "cell_type": "markdown",
   "metadata": {},
   "source": [
    "#### Creating a function \n",
    "\n",
    "**def** keyword "
   ]
  },
  {
   "cell_type": "code",
   "execution_count": 1,
   "metadata": {},
   "outputs": [],
   "source": [
    "def my_function():   \n",
    "    pass  # def funcction keyword or jo aapka my_function is function name  "
   ]
  },
  {
   "cell_type": "markdown",
   "metadata": {},
   "source": [
    "#### Calling a function \n",
    "* uske function ke name "
   ]
  },
  {
   "cell_type": "code",
   "execution_count": 28,
   "metadata": {},
   "outputs": [
    {
     "name": "stdout",
     "output_type": "stream",
     "text": [
      "hello bhaya \n"
     ]
    }
   ],
   "source": [
    "def my_function():\n",
    "    print(\"hello bhaya \")\n",
    "     # def funcction keyword or jo aapka my_function is function name\n",
    "my_function()    # calling a function\n",
    "\n"
   ]
  },
  {
   "cell_type": "markdown",
   "metadata": {},
   "source": [
    "##### Arguments\n",
    "* value pass krne ke liye apn argument "
   ]
  },
  {
   "cell_type": "code",
   "execution_count": 3,
   "metadata": {},
   "outputs": [
    {
     "name": "stdout",
     "output_type": "stream",
     "text": [
      "hello bhaya Ravi\n",
      "hello bhaya Ravi\n",
      "hello bhaya Ravi\n",
      "hello bhaya Ravi\n",
      "hello bhaya Ravi\n",
      "hello bhaya Ravi\n",
      "hello bhaya Ravi\n",
      "hello bhaya rohit\n"
     ]
    }
   ],
   "source": [
    "def my_function(name):  #### parameter \n",
    "    print(\"hello bhaya\",name )\n",
    "     # def funcction keyword or jo aapka my_function is function name\n",
    "my_function(name=\"Ravi\") \n",
    "my_function(name=\"Ravi\")       ### arguments  # calling a function\n",
    "my_function(name=\"Ravi\")       ### arguments  # calling a function\n",
    "my_function(name=\"Ravi\")       ### arguments  # calling a function\n",
    "my_function(name=\"Ravi\")       ### arguments  # calling a function\n",
    "my_function(name=\"Ravi\")       ### arguments  # calling a function\n",
    "my_function(name=\"Ravi\")       ### arguments  # calling a function\n",
    "my_function(name=\"rohit\")       ### arguments  # calling a function\n",
    "      ### arguments  # calling a function"
   ]
  },
  {
   "cell_type": "markdown",
   "metadata": {},
   "source": [
    "##### Number of Arguments "
   ]
  },
  {
   "cell_type": "code",
   "execution_count": 4,
   "metadata": {},
   "outputs": [
    {
     "name": "stdout",
     "output_type": "stream",
     "text": [
      "rohit saini\n"
     ]
    }
   ],
   "source": [
    "def hello(firstname  , lastname ):\n",
    "    print(firstname + \" \"+ lastname)\n",
    "\n",
    "hello(\"rohit\",\"saini\")"
   ]
  },
  {
   "cell_type": "code",
   "execution_count": 5,
   "metadata": {},
   "outputs": [
    {
     "name": "stdout",
     "output_type": "stream",
     "text": [
      "Rohit saini\n"
     ]
    }
   ],
   "source": [
    "def hello(firstname  , lastname ):\n",
    "    print(firstname + \" \"+ lastname)\n",
    "\n",
    "hello(\"Rohit\",\"saini\")"
   ]
  },
  {
   "cell_type": "code",
   "execution_count": 6,
   "metadata": {},
   "outputs": [
    {
     "name": "stdout",
     "output_type": "stream",
     "text": [
      "Rohit saini\n"
     ]
    }
   ],
   "source": [
    "def hello(firstname  , lastname ):\n",
    "    print(firstname + \" \"+ lastname)\n",
    "\n",
    "hello(firstname='Rohit',lastname='saini')"
   ]
  },
  {
   "cell_type": "code",
   "execution_count": 7,
   "metadata": {},
   "outputs": [
    {
     "name": "stdout",
     "output_type": "stream",
     "text": [
      "saini Rohit\n"
     ]
    }
   ],
   "source": [
    "def hello(firstname  , lastname ):\n",
    "    print(firstname + \" \"+ lastname)\n",
    "\n",
    "hello(lastname='Rohit',firstname='saini')"
   ]
  },
  {
   "cell_type": "code",
   "execution_count": 8,
   "metadata": {},
   "outputs": [
    {
     "name": "stdout",
     "output_type": "stream",
     "text": [
      "saini Rohit\n"
     ]
    }
   ],
   "source": [
    "def hello(firstname  , lastname ,less ):\n",
    "    print(firstname + \" \"+ lastname)\n",
    "\n",
    "hello(lastname='Rohit',firstname='saini',less = \"hello\")"
   ]
  },
  {
   "cell_type": "markdown",
   "metadata": {},
   "source": [
    "*args \n",
    "\n",
    "\n"
   ]
  },
  {
   "cell_type": "code",
   "execution_count": 9,
   "metadata": {},
   "outputs": [
    {
     "name": "stdout",
     "output_type": "stream",
     "text": [
      "hello Rohit kb aaoge\n"
     ]
    }
   ],
   "source": [
    "def my_function(*kids):\n",
    "    print(\"hello Rohit\" +\" \"+kids[2])\n",
    "my_function(\"kese ho \",\"kha ho  \", \"kb aaoge\",\"kb miloge\")"
   ]
  },
  {
   "cell_type": "markdown",
   "metadata": {},
   "source": [
    "**kwargs      Task "
   ]
  },
  {
   "cell_type": "markdown",
   "metadata": {},
   "source": [
    "### key argument "
   ]
  },
  {
   "cell_type": "code",
   "execution_count": 10,
   "metadata": {},
   "outputs": [
    {
     "name": "stdout",
     "output_type": "stream",
     "text": [
      "saini Rohit\n"
     ]
    }
   ],
   "source": [
    "def hello(firstname  , lastname ,less ):\n",
    "    print(firstname + \" \"+ lastname)\n",
    "\n",
    "hello(lastname='Rohit',firstname='saini',less = \"hello\")"
   ]
  },
  {
   "cell_type": "markdown",
   "metadata": {},
   "source": [
    "#### Default parameter value "
   ]
  },
  {
   "cell_type": "code",
   "execution_count": 11,
   "metadata": {},
   "outputs": [
    {
     "name": "stdout",
     "output_type": "stream",
     "text": [
      "i am from china\n",
      "i am from Buthan\n",
      "i am from Pakisthan\n",
      "i am from india\n",
      "i am from india\n",
      "i am from india\n",
      "i am from india\n",
      "i am from india\n"
     ]
    }
   ],
   "source": [
    "def country(country = \"india\"): #parameter \n",
    "\n",
    "    print(\"i am from \" + country)\n",
    "country(\"china\")\n",
    "country(\"Buthan\")\n",
    "country(\"Pakisthan\")\n",
    "country(country=\"india\")\n",
    "country()\n",
    "country()\n",
    "country()\n",
    "country()\n",
    "\n",
    "\n"
   ]
  },
  {
   "cell_type": "markdown",
   "metadata": {},
   "source": [
    "Passing a list as an **Argument** "
   ]
  },
  {
   "cell_type": "code",
   "execution_count": 12,
   "metadata": {},
   "outputs": [
    {
     "name": "stdout",
     "output_type": "stream",
     "text": [
      "apple\n",
      "carry\n",
      "orange\n"
     ]
    }
   ],
   "source": [
    "def my_function(food):\n",
    "    for x in food:\n",
    "        print(x)\n",
    "\n",
    "fruits = [\"apple\",\"carry\",\"orange\"]\n",
    "my_function(fruits)"
   ]
  },
  {
   "cell_type": "code",
   "execution_count": 13,
   "metadata": {},
   "outputs": [
    {
     "name": "stdout",
     "output_type": "stream",
     "text": [
      "ravi\n",
      "rohit \n",
      "anuj\n"
     ]
    }
   ],
   "source": [
    "def hello(tpl):\n",
    "    for x in tpl:\n",
    "        print(x)\n",
    "    \n",
    "tpl = (\"ravi\",\"rohit \",\"anuj\")\n",
    "hello(tpl)\n"
   ]
  },
  {
   "cell_type": "markdown",
   "metadata": {},
   "source": [
    "# Task 2 aapko ek dict in a function "
   ]
  },
  {
   "cell_type": "code",
   "execution_count": 14,
   "metadata": {},
   "outputs": [
    {
     "name": "stdout",
     "output_type": "stream",
     "text": [
      "['apple', 'carry', 'orange']\n",
      "<class 'list'>\n"
     ]
    }
   ],
   "source": [
    "print(fruits)\n",
    "print(type(fruits))"
   ]
  },
  {
   "cell_type": "markdown",
   "metadata": {},
   "source": [
    "## Return "
   ]
  },
  {
   "cell_type": "code",
   "execution_count": 15,
   "metadata": {},
   "outputs": [
    {
     "name": "stdout",
     "output_type": "stream",
     "text": [
      "10\n",
      "15\n",
      "30\n",
      "45\n"
     ]
    }
   ],
   "source": [
    "def hello(x):\n",
    "   return 5 * x\n",
    "print(hello(2))\n",
    "print(hello(3))\n",
    "print(hello(6))\n",
    "print(hello(9))\n",
    "\n",
    "# pass \n"
   ]
  },
  {
   "cell_type": "code",
   "execution_count": 16,
   "metadata": {},
   "outputs": [],
   "source": [
    "# *arge ye to tuple\n",
    "# **kwargs ye to dict "
   ]
  },
  {
   "cell_type": "markdown",
   "metadata": {},
   "source": [
    "## **kwargs"
   ]
  },
  {
   "cell_type": "code",
   "execution_count": 17,
   "metadata": {},
   "outputs": [
    {
     "name": "stdout",
     "output_type": "stream",
     "text": [
      "name:Ritik\n",
      "age:30\n",
      "location:india\n"
     ]
    }
   ],
   "source": [
    "def greet(**kwargs):\n",
    "    for name , Value in kwargs.items():\n",
    "        print(f\"{name}:{Value}\")\n",
    "greet(name=\"Ritik\",age = 30,location = \"india\" )\n",
    "# name or value yha pr name  ritik , age , location vo key value ritik 30 india"
   ]
  },
  {
   "cell_type": "code",
   "execution_count": 18,
   "metadata": {},
   "outputs": [],
   "source": [
    "# (f\"{name}:{Value}\")  # \n",
    "\n",
    "\n",
    "#f kyu lgaya   {      }\n",
    "\n",
    "#r row str pura ka pura str \n"
   ]
  },
  {
   "cell_type": "markdown",
   "metadata": {},
   "source": [
    "#  List Comprehension"
   ]
  },
  {
   "cell_type": "code",
   "execution_count": 19,
   "metadata": {},
   "outputs": [
    {
     "name": "stdout",
     "output_type": "stream",
     "text": [
      "1\n",
      "2\n",
      "3\n",
      "4\n",
      "5\n",
      "6\n",
      "7\n",
      "8\n",
      "9\n",
      "10\n",
      "11\n",
      "12\n",
      "13\n",
      "14\n",
      "15\n",
      "16\n",
      "17\n",
      "18\n",
      "19\n"
     ]
    }
   ],
   "source": [
    "for x in range(1,20):\n",
    "    print(x)"
   ]
  },
  {
   "cell_type": "code",
   "execution_count": 20,
   "metadata": {},
   "outputs": [
    {
     "name": "stdout",
     "output_type": "stream",
     "text": [
      "[0, 1, 4, 9, 16, 25, 36, 49, 64, 81]\n"
     ]
    }
   ],
   "source": [
    "# simple \n",
    "s=[x**2 for x in range(10)]\n",
    "print(s)"
   ]
  },
  {
   "cell_type": "code",
   "execution_count": 21,
   "metadata": {},
   "outputs": [
    {
     "name": "stdout",
     "output_type": "stream",
     "text": [
      "[0, 2, 4, 6, 8]\n"
     ]
    }
   ],
   "source": [
    "lat=[x for x in range(10) if x%2==0]\n",
    "print(lat)"
   ]
  },
  {
   "cell_type": "code",
   "execution_count": 22,
   "metadata": {},
   "outputs": [
    {
     "name": "stdout",
     "output_type": "stream",
     "text": [
      "[1, 3, 5, 7, 9]\n"
     ]
    }
   ],
   "source": [
    "lat=[x for x in range(10) if x%2!=0]\n",
    "print(lat)"
   ]
  },
  {
   "cell_type": "markdown",
   "metadata": {},
   "source": [
    "## lambda function "
   ]
  },
  {
   "cell_type": "code",
   "execution_count": 23,
   "metadata": {},
   "outputs": [
    {
     "name": "stdout",
     "output_type": "stream",
     "text": [
      "59\n"
     ]
    }
   ],
   "source": [
    "# lambda  as keyword \n",
    "# lambda agruments : expression \n",
    "y=lambda x : x+14\n",
    "print(y(45))"
   ]
  },
  {
   "cell_type": "code",
   "execution_count": 24,
   "metadata": {},
   "outputs": [
    {
     "name": "stdout",
     "output_type": "stream",
     "text": [
      "243\n"
     ]
    }
   ],
   "source": [
    "hello =lambda x , y:x**y\n",
    "print(hello(3,5))"
   ]
  },
  {
   "cell_type": "code",
   "execution_count": 25,
   "metadata": {},
   "outputs": [
    {
     "name": "stdout",
     "output_type": "stream",
     "text": [
      "9\n"
     ]
    }
   ],
   "source": [
    "hii = lambda a ,b: a+b\n",
    "print(hii(1,8))\n"
   ]
  },
  {
   "cell_type": "code",
   "execution_count": 26,
   "metadata": {},
   "outputs": [
    {
     "name": "stdout",
     "output_type": "stream",
     "text": [
      "120\n"
     ]
    }
   ],
   "source": [
    "# Recursion\n",
    "def factorial(n):\n",
    "    if n==0:\n",
    "        return 1\n",
    "    else:\n",
    "        return n *factorial(n-1)\n",
    "print(factorial(5))\n",
    "    \n",
    "        "
   ]
  },
  {
   "cell_type": "code",
   "execution_count": 27,
   "metadata": {},
   "outputs": [],
   "source": [
    "# def add(a,b):\n",
    "#     return a+b\n",
    "# result = add(a=10,b=20)\n",
    "# # print(result.append(5))\n",
    "\n",
    "# # lst = [1,5,4,5,2]\n",
    "\n",
    "# print(result)\n",
    "# result.append(1)\n",
    "\n"
   ]
  },
  {
   "cell_type": "code",
   "execution_count": null,
   "metadata": {},
   "outputs": [],
   "source": [
    "\n"
   ]
  },
  {
   "cell_type": "code",
   "execution_count": null,
   "metadata": {},
   "outputs": [],
   "source": []
  }
 ],
 "metadata": {
  "kernelspec": {
   "display_name": "Python 3",
   "language": "python",
   "name": "python3"
  },
  "language_info": {
   "codemirror_mode": {
    "name": "ipython",
    "version": 3
   },
   "file_extension": ".py",
   "mimetype": "text/x-python",
   "name": "python",
   "nbconvert_exporter": "python",
   "pygments_lexer": "ipython3",
   "version": "3.12.4"
  }
 },
 "nbformat": 4,
 "nbformat_minor": 2
}
