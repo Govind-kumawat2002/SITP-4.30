{
 "cells": [
  {
   "cell_type": "markdown",
   "metadata": {},
   "source": [
    "## Oops"
   ]
  },
  {
   "cell_type": "code",
   "execution_count": 1,
   "metadata": {},
   "outputs": [],
   "source": [
    "# class keywords\n",
    "class Bank:\n",
    "\n",
    "\n",
    "    pass\n",
    "x=Bank() # class ka obj \n",
    "\n",
    "\n",
    "# class keyword \n",
    "# bank class name \n",
    "# pass a keyword"
   ]
  },
  {
   "cell_type": "code",
   "execution_count": 2,
   "metadata": {},
   "outputs": [
    {
     "name": "stdout",
     "output_type": "stream",
     "text": [
      "Rohit 3rd year\n"
     ]
    }
   ],
   "source": [
    "class Staudent:\n",
    "    # aap yha small bhi likh skte \n",
    "    name = \"Rohit\"   #class variable \n",
    "    classes = \"3rd year\"  #class variable\n",
    "    print(name + \" \"+ classes)\n",
    "\n",
    "yy=Staudent()"
   ]
  },
  {
   "cell_type": "code",
   "execution_count": 11,
   "metadata": {},
   "outputs": [
    {
     "name": "stdout",
     "output_type": "stream",
     "text": [
      "rohti,20\n"
     ]
    }
   ],
   "source": [
    "class person:\n",
    "    classes = 21  #class variable \n",
    "    def __init__(self,name , age ):  \n",
    "        self.name = name # intance variable    \n",
    "        self.age = age\n",
    "    def display(self):\n",
    "        print(f\"{self.name},{self.age}\" )\n",
    "\n",
    "        \n",
    "\n",
    "    # def __init__(self,name ,age ):\n",
    "    #     self.name = name  # intance variable \n",
    "    #     self.age = age \n",
    "xx= person(\"rohti\",20)\n",
    "xx.display()\n",
    "\n"
   ]
  },
  {
   "cell_type": "code",
   "execution_count": 10,
   "metadata": {},
   "outputs": [],
   "source": [
    "# class Student:\n",
    "#     name = \" Arohit\"\n",
    "#     def temp():\n",
    "#         print(\"hello hii \")\n",
    "# xy = Staudent()\n",
    "# xy.temp()\n"
   ]
  },
  {
   "cell_type": "code",
   "execution_count": 13,
   "metadata": {},
   "outputs": [
    {
     "name": "stdout",
     "output_type": "stream",
     "text": [
      "name:AUDI,model:2023\n"
     ]
    }
   ],
   "source": [
    "class Car:\n",
    "    def __init__(self,name , model):\n",
    "        self.name = name    \n",
    "        self.model = model\n",
    "    \n",
    "\n",
    "    def info(self):\n",
    "        print(f\"name:{self.name},model:{self.model}\")\n",
    "\n",
    "\n",
    "\n",
    "\n",
    "    \n",
    "xx = Car(name=\"AUDI\",model=2023)\n",
    "xx.info()"
   ]
  },
  {
   "cell_type": "code",
   "execution_count": null,
   "metadata": {},
   "outputs": [],
   "source": []
  }
 ],
 "metadata": {
  "kernelspec": {
   "display_name": "Python 3",
   "language": "python",
   "name": "python3"
  },
  "language_info": {
   "codemirror_mode": {
    "name": "ipython",
    "version": 3
   },
   "file_extension": ".py",
   "mimetype": "text/x-python",
   "name": "python",
   "nbconvert_exporter": "python",
   "pygments_lexer": "ipython3",
   "version": "3.12.4"
  }
 },
 "nbformat": 4,
 "nbformat_minor": 2
}
